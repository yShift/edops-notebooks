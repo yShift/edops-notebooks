{
  "nbformat": 4,
  "nbformat_minor": 0,
  "metadata": {
    "colab": {
      "provenance": []
    },
    "kernelspec": {
      "name": "python3",
      "display_name": "Python 3"
    },
    "language_info": {
      "name": "python"
    }
  },
  "cells": [
    {
      "cell_type": "code",
      "execution_count": null,
      "metadata": {
        "id": "vNXJfkp2hOyZ"
      },
      "outputs": [],
      "source": [
        "!pip install transformers torch numpy\n"
      ]
    },
    {
      "cell_type": "code",
      "source": [
        "#\n",
        "from transformers import GPT2LMHeadModel, GPT2Tokenizer\n",
        "import torch\n",
        "\n",
        "model_name = \"gpt2\"  # You can choose a different model on hugging face or fine-tune a model\n",
        "tokenizer = GPT2Tokenizer.from_pretrained(model_name)\n",
        "model = GPT2LMHeadModel.from_pretrained(model_name)\n"
      ],
      "metadata": {
        "id": "1AR4PokXhdT6"
      },
      "execution_count": null,
      "outputs": []
    },
    {
      "cell_type": "code",
      "source": [
        "prompt = \"What is a car?\"\n",
        "\n",
        "# Tokenize input\n",
        "input_ids = tokenizer.encode(prompt, return_tensors=\"pt\", add_special_tokens=True)\n",
        "\n",
        "# Create an attention mask\n",
        "attention_mask = torch.ones(input_ids.shape, dtype=torch.long)\n",
        "\n",
        "# Generate text with attention mask\n",
        "output = model.generate(input_ids, attention_mask=attention_mask, max_length=100, num_return_sequences=1, no_repeat_ngram_size=2, top_k=50, top_p=0.95, temperature=0.7)\n",
        "\n",
        "generated_text = tokenizer.decode(output[0], skip_special_tokens=True)\n",
        "print(generated_text)"
      ],
      "metadata": {
        "colab": {
          "base_uri": "https://localhost:8080/"
        },
        "id": "poOsjpFghiFv",
        "outputId": "f3664d69-61b6-4f65-fe3f-f5ccdfa5f555"
      },
      "execution_count": null,
      "outputs": [
        {
          "output_type": "stream",
          "name": "stderr",
          "text": [
            "Setting `pad_token_id` to `eos_token_id`:50256 for open-end generation.\n"
          ]
        },
        {
          "output_type": "stream",
          "name": "stdout",
          "text": [
            "What is a car?\n",
            "\n",
            "A car is an object that is used to drive a vehicle. It is usually a small car, a truck, or a motorcycle.\n",
            ". A car can be a motor vehicle, an electric vehicle or an air vehicle (see below).\n",
            ", and a person can drive an automobile. The term \"car\" is defined in the United States Code as a \"vehicle\" that has a gross vehicle weight of less than 100,000 pounds. (See also\n"
          ]
        }
      ]
    }
  ]
}