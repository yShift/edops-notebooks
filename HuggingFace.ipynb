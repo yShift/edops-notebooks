{
 "cells": [
  {
   "cell_type": "markdown",
   "id": "e3f5591f-018f-4370-a90e-ab371fd5d99b",
   "metadata": {},
   "source": [
    "# Agent Core"
   ]
  },
  {
   "cell_type": "code",
   "execution_count": 1,
   "id": "6e58b183-8acc-4814-8e17-739a697c620b",
   "metadata": {},
   "outputs": [
    {
     "data": {
      "text/html": [
       "<iframe width=\"560\" height=\"315\" src=\"https://www.youtube.com/embed/6vAtscchXZw?si=26mVShKAupvX86xl\" title=\"YouTube video player\" frameborder=\"0\" allow=\"accelerometer; autoplay; clipboard-write; encrypted-media; gyroscope; picture-in-picture; web-share\" allowfullscreen></iframe>\n"
      ],
      "text/plain": [
       "<IPython.core.display.HTML object>"
      ]
     },
     "metadata": {},
     "output_type": "display_data"
    }
   ],
   "source": [
    "%%HTML\n",
    "<iframe width=\"560\" height=\"315\" src=\"https://www.youtube.com/embed/6vAtscchXZw?si=26mVShKAupvX86xl\" title=\"YouTube video player\" frameborder=\"0\" allow=\"accelerometer; autoplay; clipboard-write; encrypted-media; gyroscope; picture-in-picture; web-share\" allowfullscreen></iframe>"
   ]
  },
  {
   "cell_type": "markdown",
   "id": "9b7ee4f6-db34-4bd0-86a2-91a7f20b2ce0",
   "metadata": {},
   "source": [
    "# Memory Module"
   ]
  },
  {
   "cell_type": "code",
   "execution_count": null,
   "id": "44356fd8-dbb4-474e-b4ad-90a9e5aece87",
   "metadata": {},
   "outputs": [],
   "source": []
  },
  {
   "cell_type": "markdown",
   "id": "37132684-bdde-451b-bade-c2d80d482f0c",
   "metadata": {},
   "source": [
    "# Planning Module"
   ]
  },
  {
   "cell_type": "code",
   "execution_count": 3,
   "id": "d0dcd18f-7eae-41a2-9aa1-5700c60dbe1d",
   "metadata": {},
   "outputs": [
    {
     "name": "stdout",
     "output_type": "stream",
     "text": [
      "TEST\n"
     ]
    }
   ],
   "source": [
    "print(\"TEST\")"
   ]
  },
  {
   "cell_type": "code",
   "execution_count": null,
   "id": "9475bf82-5d33-4dd8-9520-a8cba5c87abb",
   "metadata": {},
   "outputs": [],
   "source": []
  },
  {
   "cell_type": "code",
   "execution_count": null,
   "id": "d9b90577-7c0a-48c7-afc1-277676f5bba0",
   "metadata": {},
   "outputs": [],
   "source": []
  },
  {
   "cell_type": "markdown",
   "id": "97263326-7a40-425d-ba75-bd4a0ef11bf8",
   "metadata": {},
   "source": [
    "# Tools"
   ]
  }
 ],
 "metadata": {
  "kernelspec": {
   "display_name": "Python 3 (ipykernel)",
   "language": "python",
   "name": "python3"
  },
  "language_info": {
   "codemirror_mode": {
    "name": "ipython",
    "version": 3
   },
   "file_extension": ".py",
   "mimetype": "text/x-python",
   "name": "python",
   "nbconvert_exporter": "python",
   "pygments_lexer": "ipython3",
   "version": "3.11.4"
  }
 },
 "nbformat": 4,
 "nbformat_minor": 5
}
